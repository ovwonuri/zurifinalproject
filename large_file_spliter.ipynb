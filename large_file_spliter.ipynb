{
 "cells": [
  {
   "cell_type": "code",
   "execution_count": 54,
   "id": "5408e434",
   "metadata": {},
   "outputs": [],
   "source": [
    "import json\n",
    "import csv\n",
    "\n",
    "\n",
    "# input file\n",
    "#file_name = \"large_file.json\"\n",
    "file_name = \"diabetes.csv\"\n",
    "\n",
    "\n",
    "# this will return a tuple of root and extension\n",
    "file_name_split = os.path.splitext(file_name)\n",
    "\n",
    "\n",
    "file_name_part1 = file_name_split[0]\n",
    "file_extension = file_name_split[1]\n",
    "chunk_file_size = 200\n",
    "\n",
    "\n",
    "\n",
    "def create_chunk(part, lines):\n",
    "    with open(file_name_part1 + str(part) +'.csv', 'w') as f_out:\n",
    "        f_out.write(header)\n",
    "        f_out.writelines(lines)\n",
    "        \n",
    "        \n",
    "        \n",
    "if file_extension == '.json':\n",
    "    \n",
    "    #you need to add you path here\n",
    "    with open(file_name, 'r', encoding = 'utf-8') as data_file:\n",
    "\n",
    "\n",
    "        # load the data into a dictionary\n",
    "        data = json.load(data_file)\n",
    "\n",
    "\n",
    "        #this is the total length size of the json file\n",
    "        total = len(data) // chunk_file_size\n",
    "\n",
    "\n",
    "        for i in range(total+1):\n",
    "            json.dump(data[i * chunk_file_size:(i + 1) * chunk_file_size], open(\n",
    "                file_name_part1 + str(i+1) + \".json\", 'w',\n",
    "                encoding='utf8'), ensure_ascii=False, indent=True)\n",
    "        \n",
    "        \n",
    "        \n",
    "elif file_extension == '.csv':\n",
    "    #you need to add you path here\n",
    "    with open(file_name, \"r\") as data_file:\n",
    "    \n",
    "        count = 0\n",
    "        header = data_file.readline()\n",
    "\n",
    "        lines = []\n",
    "        for line in data_file:\n",
    "            count += 1\n",
    "            lines.append(line)\n",
    "            if count % chunk_file_size == 0:\n",
    "                write_chunk(count // chunk_file_size, lines)\n",
    "                lines = []\n",
    "\n",
    "        # write remainder\n",
    "        if len(lines) > 0:\n",
    "            create_chunk((count // chunk_file_size) + 1, lines)\n",
    "            \n",
    "\n",
    "else:\n",
    "    print('Please only JSON files are allowed')\n",
    "    "
   ]
  },
  {
   "cell_type": "code",
   "execution_count": null,
   "id": "335e360c",
   "metadata": {},
   "outputs": [],
   "source": []
  }
 ],
 "metadata": {
  "kernelspec": {
   "display_name": "Python 3.9.4 64-bit",
   "language": "python",
   "name": "python3"
  },
  "language_info": {
   "codemirror_mode": {
    "name": "ipython",
    "version": 3
   },
   "file_extension": ".py",
   "mimetype": "text/x-python",
   "name": "python",
   "nbconvert_exporter": "python",
   "pygments_lexer": "ipython3",
   "version": "3.9.4"
  },
  "vscode": {
   "interpreter": {
    "hash": "aee8b7b246df8f9039afb4144a1f6fd8d2ca17a180786b69acc140d282b71a49"
   }
  }
 },
 "nbformat": 4,
 "nbformat_minor": 5
}
